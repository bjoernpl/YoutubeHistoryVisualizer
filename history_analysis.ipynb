{
 "cells": [
  {
   "cell_type": "code",
   "execution_count": 15,
   "metadata": {
    "collapsed": true,
    "pycharm": {
     "is_executing": false
    }
   },
   "outputs": [
    {
     "name": "stdout",
     "text": [
      "Loaded history data from history_example.json\n",
      "Found a total of 13 videos watched\n"
     ],
     "output_type": "stream"
    }
   ],
   "source": [
    "import json\n",
    "\n",
    "file_path = \"history_example.json\"\n",
    "file_data = open(file_path, 'r', encoding=\"UTF8\").read()\n",
    "history = json.loads(file_data, encoding=\"UTF8\")\n",
    "\n",
    "print(f'Loaded history data from {file_path}')\n",
    "print(f'Found a total of {len(history)} videos watched')"
   ]
  },
  {
   "cell_type": "code",
   "execution_count": 16,
   "outputs": [
    {
     "name": "stderr",
     "text": [
      "100%|██████████| 13/13 [00:00<00:00, 2607.28it/s]\n"
     ],
     "output_type": "stream"
    },
    {
     "name": "stdout",
     "text": [
      "Parsed 13 videos\n"
     ],
     "output_type": "stream"
    }
   ],
   "source": [
    "from video import Video, VideoByChannel\n",
    "from tqdm import tqdm\n",
    "\n",
    "videos_watched = [Video(video_data) for video_data in tqdm(history)]\n",
    "\n",
    "print(f'Parsed {len(videos_watched)} videos')"
   ],
   "metadata": {
    "collapsed": false,
    "pycharm": {
     "name": "#%%\n",
     "is_executing": false
    }
   }
  },
  {
   "cell_type": "code",
   "execution_count": 17,
   "outputs": [
    {
     "name": "stdout",
     "text": [
      "Between the time you first watched a video and your last view, 30 days have passed\n",
      "30 days, 4 hours, 10 minutes and 49 seconds to be exact.\n"
     ],
     "output_type": "stream"
    }
   ],
   "source": [
    "import math\n",
    "\n",
    "total_time = videos_watched[0].time - videos_watched[-1].time\n",
    "print(f'Between the time you first watched a video and your last view, {total_time.days} days have passed')\n",
    "hours = math.floor(total_time.seconds / 3600)\n",
    "minutes = math.floor((total_time.seconds % 3600) / 60)\n",
    "seconds = (total_time.seconds % 60)\n",
    "print(f'{total_time.days} days, {hours} hours, {minutes:.0f} minutes and {seconds} seconds to be exact.')"
   ],
   "metadata": {
    "collapsed": false,
    "pycharm": {
     "name": "#%%\n",
     "is_executing": false
    }
   }
  },
  {
   "cell_type": "code",
   "execution_count": 18,
   "outputs": [
    {
     "name": "stdout",
     "text": [
      "On average you watched 0.4333 videos per day\n"
     ],
     "output_type": "stream"
    }
   ],
   "source": [
    "print(f'On average you watched {len(videos_watched)/total_time.days:.4f} videos per day')"
   ],
   "metadata": {
    "collapsed": false,
    "pycharm": {
     "name": "#%%\n",
     "is_executing": false
    }
   }
  },
  {
   "cell_type": "code",
   "execution_count": 19,
   "outputs": [
    {
     "name": "stdout",
     "text": [
      "You watched a total of 10 unique videos\n",
      "Your top 20 most watched videos are:\n",
      "    3 views: Voyboy vs BoxBox! || \"The Balance of Power Must be Preserved.\" || Chess.com Pogchamps angesehen by @agadmator's Chess Channel\n",
      "    2 views: Surprise, Disgust, Happiness || Carlsen vs Giri || Chessable Masters (2020) angesehen by @agadmator's Chess Channel\n",
      "    1 views: LoFi House Mix 1988 | The Stoner House Edition by @Katarakt angesehen by @Fear N Loathing\n",
      "    1 views: Money, Love & Lots of Tape | THE NICO SEMSROTT SHOW angesehen by @Nico Semsrott\n",
      "    1 views: Legendary Mr. Barnes || Morphy vs Barnes (1858) angesehen by @agadmator's Chess Channel\n",
      "    1 views: Mate in 8, But Really it's Instant  || Barnes vs Morphy (1858) angesehen by @agadmator's Chess Channel\n",
      "    1 views: Branchless Programming: Why \"If\" is Sloowww... and what we can do about it! angesehen by @What's a Creel?\n",
      "    1 views: tagesschau 20:00 Uhr, 15.07.2020 angesehen by @tagesschau\n",
      "    1 views: Voyboy vs Hutch! || The Grand Finale || Chess.com Pogchamps angesehen by @agadmator's Chess Channel\n",
      "    1 views: Stockfish Goes Barbarian Mode Against Leela! || TCEC Superfinal Season 17 angesehen by @agadmator's Chess Channel\n"
     ],
     "output_type": "stream"
    }
   ],
   "source": [
    "from collections import Counter\n",
    "from matplotlib import pyplot as plt\n",
    "\n",
    "video_counter = Counter(videos_watched)\n",
    "print(f'You watched a total of {len(video_counter)} unique videos')\n",
    "print(\"Your top 20 most watched videos are:\")\n",
    "for video, amount in video_counter.most_common(20):\n",
    "    print(f'    {amount} views: {video}')"
   ],
   "metadata": {
    "collapsed": false,
    "pycharm": {
     "name": "#%%\n",
     "is_executing": false
    }
   }
  },
  {
   "cell_type": "code",
   "execution_count": 20,
   "outputs": [
    {
     "name": "stdout",
     "text": [
      "You have watched a total of 2 videos more than once:\n"
     ],
     "output_type": "stream"
    },
    {
     "data": {
      "text/plain": "<Figure size 432x288 with 1 Axes>",
      "image/png": "[encoded data removed]"
     },
     "metadata": {
      "needs_background": "light"
     },
     "output_type": "display_data"
    }
   ],
   "source": [
    "videos_watched_more_than_once = [\n",
    "    (video, amount) for video, amount in video_counter.most_common()\n",
    "    if amount > 1\n",
    "]\n",
    "\n",
    "print(f'You have watched a total of {len(videos_watched_more_than_once)} videos more than once:')\n",
    "plt.scatter(\n",
    "    range(len(videos_watched_more_than_once)), \n",
    "    [amount for video, amount in videos_watched_more_than_once],\n",
    "    marker=\"x\"\n",
    ")\n",
    "plt.ylabel(\"Times viewed\")\n",
    "plt.show()"
   ],
   "metadata": {
    "collapsed": false,
    "pycharm": {
     "name": "#%%\n",
     "is_executing": false
    }
   }
  },
  {
   "cell_type": "code",
   "execution_count": 21,
   "outputs": [
    {
     "name": "stderr",
     "text": [
      "100%|██████████| 13/13 [00:00<00:00, 13028.90it/s]\n"
     ],
     "output_type": "stream"
    },
    {
     "name": "stdout",
     "text": [
      "You watched a total of 5 unique channels\n",
      "Your top 40 most watched channels are:\n",
      "    9 views: agadmator's Chess Channel\n",
      "    1 views: Fear N Loathing\n",
      "    1 views: Nico Semsrott\n",
      "    1 views: What's a Creel?\n",
      "    1 views: tagesschau\n"
     ],
     "output_type": "stream"
    }
   ],
   "source": [
    "videos_watched_by_channel = [VideoByChannel(video_data) for video_data in tqdm(history)]\n",
    "channel_counter = Counter(videos_watched_by_channel)\n",
    "print(f'You watched a total of {len(channel_counter)} unique channels')\n",
    "print(\"Your top 40 most watched channels are:\")\n",
    "for video, amount in channel_counter.most_common(40):\n",
    "    print(f'    {amount} views: {video.channel_name}')"
   ],
   "metadata": {
    "collapsed": false,
    "pycharm": {
     "name": "#%%\n",
     "is_executing": false
    }
   }
  },
  {
   "cell_type": "code",
   "execution_count": 22,
   "outputs": [
    {
     "name": "stdout",
     "text": [
      "You have watched a total of 1 channels more than once:\n"
     ],
     "output_type": "stream"
    },
    {
     "data": {
      "text/plain": "<Figure size 432x288 with 1 Axes>",
      "image/png": "[encoded data removed]"
     },
     "metadata": {
      "needs_background": "light"
     },
     "output_type": "display_data"
    }
   ],
   "source": [
    "channels_watched_more_than_once = [\n",
    "    (video, amount) for video, amount in channel_counter.most_common()\n",
    "    if amount > 1\n",
    "]\n",
    "\n",
    "print(f'You have watched a total of {len(channels_watched_more_than_once)} channels more than once:')\n",
    "plt.scatter(\n",
    "    range(len(channels_watched_more_than_once)),\n",
    "    [amount for video, amount in channels_watched_more_than_once],\n",
    "    marker=\"x\"\n",
    ")\n",
    "plt.ylabel(\"Times viewed\")\n",
    "plt.show()"
   ],
   "metadata": {
    "collapsed": false,
    "pycharm": {
     "name": "#%%\n",
     "is_executing": false
    }
   }
  }
 ],
 "metadata": {
  "kernelspec": {
   "display_name": "Python 3",
   "language": "python",
   "name": "python3"
  },
  "language_info": {
   "codemirror_mode": {
    "name": "ipython",
    "version": 2
   },
   "file_extension": ".py",
   "mimetype": "text/x-python",
   "name": "python",
   "nbconvert_exporter": "python",
   "pygments_lexer": "ipython2",
   "version": "2.7.6"
  },
  "pycharm": {
   "stem_cell": {
    "cell_type": "raw",
    "source": [],
    "metadata": {
     "collapsed": false
    }
   }
  }
 },
 "nbformat": 4,
 "nbformat_minor": 0
}